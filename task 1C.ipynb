{
 "cells": [
  {
   "cell_type": "code",
   "execution_count": 85,
   "metadata": {},
   "outputs": [],
   "source": [
    "from PIL import Image\n",
    "import numpy as np\n",
    "import pandas as pd\n",
    "from matplotlib import pyplot as plt"
   ]
  },
  {
   "cell_type": "code",
   "execution_count": 261,
   "metadata": {},
   "outputs": [
    {
     "name": "stdout",
     "output_type": "stream",
     "text": [
      "(168, 146)\n"
     ]
    }
   ],
   "source": [
    "an_image = PIL.Image.open(\"2.png\")\n",
    "png_size = an_image.size\n",
    "image_sequence = an_image.getdata()\n",
    "image_array = np.array(image_sequence)\n",
    "print(png_size)"
   ]
  },
  {
   "cell_type": "code",
   "execution_count": 262,
   "metadata": {},
   "outputs": [
    {
     "name": "stdout",
     "output_type": "stream",
     "text": [
      "(24528, 4)\n"
     ]
    }
   ],
   "source": [
    "print(image_array.shape)"
   ]
  },
  {
   "cell_type": "code",
   "execution_count": 263,
   "metadata": {},
   "outputs": [
    {
     "data": {
      "text/html": [
       "<div>\n",
       "<style scoped>\n",
       "    .dataframe tbody tr th:only-of-type {\n",
       "        vertical-align: middle;\n",
       "    }\n",
       "\n",
       "    .dataframe tbody tr th {\n",
       "        vertical-align: top;\n",
       "    }\n",
       "\n",
       "    .dataframe thead th {\n",
       "        text-align: right;\n",
       "    }\n",
       "</style>\n",
       "<table border=\"1\" class=\"dataframe\">\n",
       "  <thead>\n",
       "    <tr style=\"text-align: right;\">\n",
       "      <th></th>\n",
       "      <th>a</th>\n",
       "      <th>b</th>\n",
       "      <th>c</th>\n",
       "      <th>d</th>\n",
       "    </tr>\n",
       "  </thead>\n",
       "  <tbody>\n",
       "    <tr>\n",
       "      <th>0</th>\n",
       "      <td>255</td>\n",
       "      <td>255</td>\n",
       "      <td>255</td>\n",
       "      <td>255</td>\n",
       "    </tr>\n",
       "    <tr>\n",
       "      <th>1</th>\n",
       "      <td>255</td>\n",
       "      <td>255</td>\n",
       "      <td>255</td>\n",
       "      <td>255</td>\n",
       "    </tr>\n",
       "    <tr>\n",
       "      <th>2</th>\n",
       "      <td>255</td>\n",
       "      <td>255</td>\n",
       "      <td>255</td>\n",
       "      <td>255</td>\n",
       "    </tr>\n",
       "    <tr>\n",
       "      <th>3</th>\n",
       "      <td>255</td>\n",
       "      <td>255</td>\n",
       "      <td>255</td>\n",
       "      <td>255</td>\n",
       "    </tr>\n",
       "    <tr>\n",
       "      <th>4</th>\n",
       "      <td>255</td>\n",
       "      <td>255</td>\n",
       "      <td>255</td>\n",
       "      <td>255</td>\n",
       "    </tr>\n",
       "    <tr>\n",
       "      <th>...</th>\n",
       "      <td>...</td>\n",
       "      <td>...</td>\n",
       "      <td>...</td>\n",
       "      <td>...</td>\n",
       "    </tr>\n",
       "    <tr>\n",
       "      <th>24523</th>\n",
       "      <td>255</td>\n",
       "      <td>255</td>\n",
       "      <td>255</td>\n",
       "      <td>255</td>\n",
       "    </tr>\n",
       "    <tr>\n",
       "      <th>24524</th>\n",
       "      <td>255</td>\n",
       "      <td>255</td>\n",
       "      <td>255</td>\n",
       "      <td>255</td>\n",
       "    </tr>\n",
       "    <tr>\n",
       "      <th>24525</th>\n",
       "      <td>255</td>\n",
       "      <td>255</td>\n",
       "      <td>255</td>\n",
       "      <td>255</td>\n",
       "    </tr>\n",
       "    <tr>\n",
       "      <th>24526</th>\n",
       "      <td>255</td>\n",
       "      <td>255</td>\n",
       "      <td>255</td>\n",
       "      <td>255</td>\n",
       "    </tr>\n",
       "    <tr>\n",
       "      <th>24527</th>\n",
       "      <td>255</td>\n",
       "      <td>255</td>\n",
       "      <td>255</td>\n",
       "      <td>255</td>\n",
       "    </tr>\n",
       "  </tbody>\n",
       "</table>\n",
       "<p>24528 rows × 4 columns</p>\n",
       "</div>"
      ],
      "text/plain": [
       "         a    b    c    d\n",
       "0      255  255  255  255\n",
       "1      255  255  255  255\n",
       "2      255  255  255  255\n",
       "3      255  255  255  255\n",
       "4      255  255  255  255\n",
       "...    ...  ...  ...  ...\n",
       "24523  255  255  255  255\n",
       "24524  255  255  255  255\n",
       "24525  255  255  255  255\n",
       "24526  255  255  255  255\n",
       "24527  255  255  255  255\n",
       "\n",
       "[24528 rows x 4 columns]"
      ]
     },
     "execution_count": 263,
     "metadata": {},
     "output_type": "execute_result"
    }
   ],
   "source": [
    "df = pd.DataFrame(image_array, columns=['a', 'b', 'c', 'd'])\n",
    "df"
   ]
  },
  {
   "cell_type": "code",
   "execution_count": 264,
   "metadata": {},
   "outputs": [
    {
     "data": {
      "text/plain": [
       "array([255, 131,   8, 222])"
      ]
     },
     "execution_count": 264,
     "metadata": {},
     "output_type": "execute_result"
    }
   ],
   "source": [
    "df.a.unique()"
   ]
  },
  {
   "cell_type": "code",
   "execution_count": 265,
   "metadata": {},
   "outputs": [
    {
     "data": {
      "image/png": "[encoded data removed]",
      "text/plain": [
       "<PIL.PngImagePlugin.PngImageFile image mode=RGBA size=168x146 at 0x1EE788A9B48>"
      ]
     },
     "execution_count": 265,
     "metadata": {},
     "output_type": "execute_result"
    }
   ],
   "source": [
    "an_image\n"
   ]
  },
  {
   "cell_type": "code",
   "execution_count": 266,
   "metadata": {},
   "outputs": [],
   "source": [
    "# (8, 8,8,255) чёрный пиксель \n",
    "modP = np.zeros(png_size)\n",
    "for i in range(png_size[0]):\n",
    "    for j in range(png_size[1]):\n",
    "        if image_array[i +j *png_size[0]][0] == 8:\n",
    "                if image_array[i +j *png_size[0]][1] == 8:\n",
    "                    if image_array[i +j *png_size[0]][2] == 8:\n",
    "                        modP[i][j] = 1\n"
   ]
  },
  {
   "cell_type": "code",
   "execution_count": 267,
   "metadata": {},
   "outputs": [
    {
     "data": {
      "text/plain": [
       "510.0"
      ]
     },
     "execution_count": 267,
     "metadata": {},
     "output_type": "execute_result"
    }
   ],
   "source": [
    "n_dorts = sum(sum(modP))\n",
    "n_dorts"
   ]
  },
  {
   "cell_type": "code",
   "execution_count": 268,
   "metadata": {},
   "outputs": [
    {
     "data": {
      "image/png": "[encoded data removed]",
      "text/plain": [
       "<Figure size 432x288 with 1 Axes>"
      ]
     },
     "metadata": {
      "needs_background": "light"
     },
     "output_type": "display_data"
    }
   ],
   "source": [
    "a=list()\n",
    "b = list()\n",
    "for i in range(png_size[0]):\n",
    "    for j in range(png_size[1]):\n",
    "        if modP[i][j] == 1:\n",
    "            a.append(i)\n",
    "            b.append(j)\n",
    "plt.scatter(a, b)\n",
    "plt.show()"
   ]
  },
  {
   "cell_type": "code",
   "execution_count": 269,
   "metadata": {},
   "outputs": [],
   "source": [
    "min_l = min(a)\n",
    "dop_l = 1\n",
    "max_r = max(a)\n",
    "dop_r =1\n",
    "max_h = max(b)\n",
    "dop_h = 1\n",
    "min_u = min(b)\n",
    "dop_u = 1\n",
    "dorts = list()\n",
    "for i in range(png_size[0]):\n",
    "    for j in range(png_size[1]):\n",
    "        if modP[i][j] == 1:\n",
    "            if i  == min_l and dop_l == 1:\n",
    "                dop_l = 0\n",
    "                dorts.append([i, j])\n",
    "            if i  == max_r and dop_r == 1:\n",
    "                dop_r = 0\n",
    "                dorts.append([i, j])\n",
    "            if j == min_u and dop_u ==1:\n",
    "                dop_u = 0\n",
    "                dorts.append([i, j])\n",
    "            if j == max_h and dop_h ==1:\n",
    "                dop_h = 0\n",
    "                dorts.append([i, j])"
   ]
  },
  {
   "cell_type": "code",
   "execution_count": 270,
   "metadata": {},
   "outputs": [
    {
     "data": {
      "image/png": "[encoded data removed]",
      "text/plain": [
       "<Figure size 432x288 with 1 Axes>"
      ]
     },
     "metadata": {
      "needs_background": "light"
     },
     "output_type": "display_data"
    },
    {
     "name": "stdout",
     "output_type": "stream",
     "text": [
      "[[20, 130], [20, 131], [85, 5], [144, 120]]\n"
     ]
    }
   ],
   "source": [
    "plt.scatter([dorts[0][0], dorts[1][0], dorts[2][0], dorts[3][0]], [dorts[0][1], dorts[1][1], dorts[2][1], dorts[3][1],])\n",
    "plt.show()\n",
    "print(dorts)"
   ]
  },
  {
   "cell_type": "code",
   "execution_count": 271,
   "metadata": {},
   "outputs": [
    {
     "name": "stdout",
     "output_type": "stream",
     "text": [
      "It's triangular\n"
     ]
    }
   ],
   "source": [
    "trangl = 0\n",
    "square = 0\n",
    "rectangle = 0\n",
    "center = [0, 0]\n",
    "r = 0\n",
    "for i in dorts:\n",
    "    for j in dorts:\n",
    "        if i != j and ((i[0] -j[0])**2 +(i[1]- j[1])**2) >= 18:\n",
    "            if (i[0] - j[0])**2 < 9 and (i[1] - j[1])**2 > 4:\n",
    "                r +=1\n",
    "                center[1] = int(abs(i[1] - j[1]) / 2.0)\n",
    "            if (i[1] - j[1])**2 < 9 and (i[0] - j[0])**2 > 4:  \n",
    "                r +=1\n",
    "                center[0] = int(abs(i[0] - j[0]) / 2.0)\n",
    "\n",
    "for i in range(4):\n",
    "    for j in range(4):\n",
    "        temp1 = 0\n",
    "        temp2 = 0\n",
    "        if i != j:\n",
    "            if ((dorts[i][0] -dorts[j][0])**2 +(dorts[i][1]- dorts[j][1])**2) <= 18:\n",
    "                if r >= 2:\n",
    "                    for k in range(center[0],png_size[0] ):\n",
    "                        for m in range(center[1], png_size[1]):\n",
    "                            if modP[k][m] == 1:\n",
    "                                temp1 +=1\n",
    "                    for k in range(center[0]):\n",
    "                        for m in range(center[1]):\n",
    "                            if modP[k][m] == 1:\n",
    "                                temp2 +=1\n",
    "                    if temp1 + temp2 > n_dorts / 8:\n",
    "                        rectangle = 0.5\n",
    "                        square = 0.5 \n",
    "                    else:\n",
    "                        trangal = 1\n",
    "                else:\n",
    "                    trangal =1\n",
    "x1 = 0\n",
    "y1 = 0\n",
    "for i in dorts:\n",
    "    for j in dorts:\n",
    "        if i!=j:\n",
    "            if abs(i[0] - j[0]) > x1:\n",
    "                x1  = abs(i[0] - j[0])\n",
    "            if abs(i[1] - j[1]) > x1:\n",
    "                y1  = abs(i[1] - j[1])\n",
    "if abs(x1 - y1) < 5 and square == 0.5 and rectangle == 0.5:\n",
    "    squere = 1\n",
    "    print(\"It's squere\")\n",
    "if abs(x1 - y1) > 5 and square == 0.5 and rectangle == 0.5:\n",
    "    rectangle = 1\n",
    "    print(\"It's rectangle\")\n",
    "if trangal == 1 and rectangle + square < 1:\n",
    "    print(\"It's triangular\")\n",
    "\n"
   ]
  },
  {
   "cell_type": "code",
   "execution_count": null,
   "metadata": {},
   "outputs": [],
   "source": []
  }
 ],
 "metadata": {
  "kernelspec": {
   "display_name": "Python 3",
   "language": "python",
   "name": "python3"
  },
  "language_info": {
   "codemirror_mode": {
    "name": "ipython",
    "version": 3
   },
   "file_extension": ".py",
   "mimetype": "text/x-python",
   "name": "python",
   "nbconvert_exporter": "python",
   "pygments_lexer": "ipython3",
   "version": "3.7.6"
  }
 },
 "nbformat": 4,
 "nbformat_minor": 4
}
